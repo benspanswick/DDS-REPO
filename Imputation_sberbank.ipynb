{
 "cells": [
  {
   "cell_type": "code",
   "execution_count": 7,
   "metadata": {},
   "outputs": [],
   "source": [
    "import pandas as pd\n",
    "import numpy as np\n",
    "import fancyimpute as fi\n"
   ]
  },
  {
   "cell_type": "code",
   "execution_count": 3,
   "metadata": {},
   "outputs": [],
   "source": [
    "train = pd.read_csv('train.csv')\n",
    "\n",
    "train_df = pd.DataFrame(train)"
   ]
  },
  {
   "cell_type": "code",
   "execution_count": 13,
   "metadata": {},
   "outputs": [],
   "source": [
    "from fancyimpute import mice\n"
   ]
  },
  {
   "cell_type": "code",
   "execution_count": 43,
   "metadata": {},
   "outputs": [],
   "source": [
    "train_np = train_df.values\n",
    "header_array =train_df.columns.get_values()"
   ]
  },
  {
   "cell_type": "code",
   "execution_count": 18,
   "metadata": {},
   "outputs": [
    {
     "ename": "TypeError",
     "evalue": "'module' object is not callable",
     "output_type": "error",
     "traceback": [
      "\u001b[1;31m---------------------------------------------------------------------------\u001b[0m",
      "\u001b[1;31mTypeError\u001b[0m                                 Traceback (most recent call last)",
      "\u001b[1;32m<ipython-input-18-f1301cb6221b>\u001b[0m in \u001b[0;36m<module>\u001b[1;34m()\u001b[0m\n\u001b[0;32m      3\u001b[0m \u001b[0mtrain_df_cols\u001b[0m\u001b[1;33m=\u001b[0m\u001b[0mlist\u001b[0m\u001b[1;33m(\u001b[0m\u001b[0mtrain_df\u001b[0m\u001b[1;33m)\u001b[0m\u001b[1;33m\u001b[0m\u001b[0m\n\u001b[0;32m      4\u001b[0m \u001b[1;33m\u001b[0m\u001b[0m\n\u001b[1;32m----> 5\u001b[1;33m \u001b[0mtrain_df\u001b[0m \u001b[1;33m=\u001b[0m \u001b[0mpd\u001b[0m\u001b[1;33m.\u001b[0m\u001b[0mDataFrame\u001b[0m\u001b[1;33m(\u001b[0m\u001b[0mmice\u001b[0m\u001b[1;33m(\u001b[0m\u001b[0mm\u001b[0m\u001b[1;33m=\u001b[0m\u001b[1;36m1\u001b[0m\u001b[1;33m)\u001b[0m\u001b[1;33m.\u001b[0m\u001b[0mcomplete\u001b[0m\u001b[1;33m(\u001b[0m\u001b[0mtrain_np\u001b[0m\u001b[1;33m)\u001b[0m\u001b[1;33m)\u001b[0m\u001b[1;33m\u001b[0m\u001b[0m\n\u001b[0m\u001b[0;32m      6\u001b[0m \u001b[1;33m\u001b[0m\u001b[0m\n\u001b[0;32m      7\u001b[0m \u001b[0mtrain_df\u001b[0m\u001b[1;33m.\u001b[0m\u001b[0mcolumns\u001b[0m\u001b[1;33m=\u001b[0m\u001b[0mtrain_df_cols\u001b[0m\u001b[1;33m\u001b[0m\u001b[0m\n",
      "\u001b[1;31mTypeError\u001b[0m: 'module' object is not callable"
     ]
    }
   ],
   "source": [
    "\n",
    "#fancy impute removes column names.\n",
    "train_df_cols=list(train_df)\n",
    "\n",
    "train_df = pd.DataFrame(mice(m=1).complete(train_np))\n",
    "\n",
    "train_df.columns=train_df_cols"
   ]
  },
  {
   "cell_type": "code",
   "execution_count": 20,
   "metadata": {},
   "outputs": [],
   "source": [
    "from sklearn.impute import SimpleImputer"
   ]
  },
  {
   "cell_type": "code",
   "execution_count": 23,
   "metadata": {},
   "outputs": [],
   "source": [
    "imp = SimpleImputer(strategy=\"most_frequent\")\n",
    "imputed_data = imp.fit_transform(train_df)"
   ]
  },
  {
   "cell_type": "code",
   "execution_count": 28,
   "metadata": {
    "scrolled": true
   },
   "outputs": [
    {
     "data": {
      "text/plain": [
       "array([[1, '2011-08-20', 43, ..., 52, 4, 5850000],\n",
       "       [2, '2011-08-23', 34, ..., 66, 14, 6000000],\n",
       "       [3, '2011-08-27', 43, ..., 67, 10, 5700000],\n",
       "       ...,\n",
       "       [30471, '2015-06-30', 45, ..., 11, 1, 6970959],\n",
       "       [30472, '2015-06-30', 64, ..., 65, 7, 13500000],\n",
       "       [30473, '2015-06-30', 43, ..., 54, 10, 5600000]], dtype=object)"
      ]
     },
     "execution_count": 28,
     "metadata": {},
     "output_type": "execute_result"
    }
   ],
   "source": [
    "imputed_data"
   ]
  },
  {
   "cell_type": "code",
   "execution_count": 49,
   "metadata": {},
   "outputs": [
    {
     "data": {
      "text/plain": [
       "array(['id', 'timestamp', 'full_sq', 'life_sq', 'floor', 'max_floor',\n",
       "       'material', 'build_year', 'num_room', 'kitch_sq', 'state',\n",
       "       'product_type', 'sub_area', 'area_m', 'raion_popul',\n",
       "       'green_zone_part', 'indust_part', 'children_preschool',\n",
       "       'preschool_quota', 'preschool_education_centers_raion',\n",
       "       'children_school', 'school_quota',\n",
       "       'school_education_centers_raion',\n",
       "       'school_education_centers_top_20_raion', 'hospital_beds_raion',\n",
       "       'healthcare_centers_raion', 'university_top_20_raion',\n",
       "       'sport_objects_raion', 'additional_education_raion',\n",
       "       'culture_objects_top_25', 'culture_objects_top_25_raion',\n",
       "       'shopping_centers_raion', 'office_raion',\n",
       "       'thermal_power_plant_raion', 'incineration_raion',\n",
       "       'oil_chemistry_raion', 'radiation_raion',\n",
       "       'railroad_terminal_raion', 'big_market_raion',\n",
       "       'nuclear_reactor_raion', 'detention_facility_raion', 'full_all',\n",
       "       'male_f', 'female_f', 'young_all', 'young_male', 'young_female',\n",
       "       'work_all', 'work_male', 'work_female', 'ekder_all', 'ekder_male',\n",
       "       'ekder_female', '0_6_all', '0_6_male', '0_6_female', '7_14_all',\n",
       "       '7_14_male', '7_14_female', '0_17_all', '0_17_male', '0_17_female',\n",
       "       '16_29_all', '16_29_male', '16_29_female', '0_13_all', '0_13_male',\n",
       "       '0_13_female', 'raion_build_count_with_material_info',\n",
       "       'build_count_block', 'build_count_wood', 'build_count_frame',\n",
       "       'build_count_brick', 'build_count_monolith', 'build_count_panel',\n",
       "       'build_count_foam', 'build_count_slag', 'build_count_mix',\n",
       "       'raion_build_count_with_builddate_info', 'build_count_before_1920',\n",
       "       'build_count_1921-1945', 'build_count_1946-1970',\n",
       "       'build_count_1971-1995', 'build_count_after_1995', 'ID_metro',\n",
       "       'metro_min_avto', 'metro_km_avto', 'metro_min_walk',\n",
       "       'metro_km_walk', 'kindergarten_km', 'school_km', 'park_km',\n",
       "       'green_zone_km', 'industrial_km', 'water_treatment_km',\n",
       "       'cemetery_km', 'incineration_km', 'railroad_station_walk_km',\n",
       "       'railroad_station_walk_min', 'ID_railroad_station_walk',\n",
       "       'railroad_station_avto_km', 'railroad_station_avto_min',\n",
       "       'ID_railroad_station_avto', 'public_transport_station_km',\n",
       "       'public_transport_station_min_walk', 'water_km', 'water_1line',\n",
       "       'mkad_km', 'ttk_km', 'sadovoe_km', 'bulvar_ring_km', 'kremlin_km',\n",
       "       'big_road1_km', 'ID_big_road1', 'big_road1_1line', 'big_road2_km',\n",
       "       'ID_big_road2', 'railroad_km', 'railroad_1line',\n",
       "       'zd_vokzaly_avto_km', 'ID_railroad_terminal',\n",
       "       'bus_terminal_avto_km', 'ID_bus_terminal', 'oil_chemistry_km',\n",
       "       'nuclear_reactor_km', 'radiation_km', 'power_transmission_line_km',\n",
       "       'thermal_power_plant_km', 'ts_km', 'big_market_km',\n",
       "       'market_shop_km', 'fitness_km', 'swim_pool_km', 'ice_rink_km',\n",
       "       'stadium_km', 'basketball_km', 'hospice_morgue_km',\n",
       "       'detention_facility_km', 'public_healthcare_km', 'university_km',\n",
       "       'workplaces_km', 'shopping_centers_km', 'office_km',\n",
       "       'additional_education_km', 'preschool_km', 'big_church_km',\n",
       "       'church_synagogue_km', 'mosque_km', 'theater_km', 'museum_km',\n",
       "       'exhibition_km', 'catering_km', 'ecology', 'green_part_500',\n",
       "       'prom_part_500', 'office_count_500', 'office_sqm_500',\n",
       "       'trc_count_500', 'trc_sqm_500', 'cafe_count_500',\n",
       "       'cafe_sum_500_min_price_avg', 'cafe_sum_500_max_price_avg',\n",
       "       'cafe_avg_price_500', 'cafe_count_500_na_price',\n",
       "       'cafe_count_500_price_500', 'cafe_count_500_price_1000',\n",
       "       'cafe_count_500_price_1500', 'cafe_count_500_price_2500',\n",
       "       'cafe_count_500_price_4000', 'cafe_count_500_price_high',\n",
       "       'big_church_count_500', 'church_count_500', 'mosque_count_500',\n",
       "       'leisure_count_500', 'sport_count_500', 'market_count_500',\n",
       "       'green_part_1000', 'prom_part_1000', 'office_count_1000',\n",
       "       'office_sqm_1000', 'trc_count_1000', 'trc_sqm_1000',\n",
       "       'cafe_count_1000', 'cafe_sum_1000_min_price_avg',\n",
       "       'cafe_sum_1000_max_price_avg', 'cafe_avg_price_1000',\n",
       "       'cafe_count_1000_na_price', 'cafe_count_1000_price_500',\n",
       "       'cafe_count_1000_price_1000', 'cafe_count_1000_price_1500',\n",
       "       'cafe_count_1000_price_2500', 'cafe_count_1000_price_4000',\n",
       "       'cafe_count_1000_price_high', 'big_church_count_1000',\n",
       "       'church_count_1000', 'mosque_count_1000', 'leisure_count_1000',\n",
       "       'sport_count_1000', 'market_count_1000', 'green_part_1500',\n",
       "       'prom_part_1500', 'office_count_1500', 'office_sqm_1500',\n",
       "       'trc_count_1500', 'trc_sqm_1500', 'cafe_count_1500',\n",
       "       'cafe_sum_1500_min_price_avg', 'cafe_sum_1500_max_price_avg',\n",
       "       'cafe_avg_price_1500', 'cafe_count_1500_na_price',\n",
       "       'cafe_count_1500_price_500', 'cafe_count_1500_price_1000',\n",
       "       'cafe_count_1500_price_1500', 'cafe_count_1500_price_2500',\n",
       "       'cafe_count_1500_price_4000', 'cafe_count_1500_price_high',\n",
       "       'big_church_count_1500', 'church_count_1500', 'mosque_count_1500',\n",
       "       'leisure_count_1500', 'sport_count_1500', 'market_count_1500',\n",
       "       'green_part_2000', 'prom_part_2000', 'office_count_2000',\n",
       "       'office_sqm_2000', 'trc_count_2000', 'trc_sqm_2000',\n",
       "       'cafe_count_2000', 'cafe_sum_2000_min_price_avg',\n",
       "       'cafe_sum_2000_max_price_avg', 'cafe_avg_price_2000',\n",
       "       'cafe_count_2000_na_price', 'cafe_count_2000_price_500',\n",
       "       'cafe_count_2000_price_1000', 'cafe_count_2000_price_1500',\n",
       "       'cafe_count_2000_price_2500', 'cafe_count_2000_price_4000',\n",
       "       'cafe_count_2000_price_high', 'big_church_count_2000',\n",
       "       'church_count_2000', 'mosque_count_2000', 'leisure_count_2000',\n",
       "       'sport_count_2000', 'market_count_2000', 'green_part_3000',\n",
       "       'prom_part_3000', 'office_count_3000', 'office_sqm_3000',\n",
       "       'trc_count_3000', 'trc_sqm_3000', 'cafe_count_3000',\n",
       "       'cafe_sum_3000_min_price_avg', 'cafe_sum_3000_max_price_avg',\n",
       "       'cafe_avg_price_3000', 'cafe_count_3000_na_price',\n",
       "       'cafe_count_3000_price_500', 'cafe_count_3000_price_1000',\n",
       "       'cafe_count_3000_price_1500', 'cafe_count_3000_price_2500',\n",
       "       'cafe_count_3000_price_4000', 'cafe_count_3000_price_high',\n",
       "       'big_church_count_3000', 'church_count_3000', 'mosque_count_3000',\n",
       "       'leisure_count_3000', 'sport_count_3000', 'market_count_3000',\n",
       "       'green_part_5000', 'prom_part_5000', 'office_count_5000',\n",
       "       'office_sqm_5000', 'trc_count_5000', 'trc_sqm_5000',\n",
       "       'cafe_count_5000', 'cafe_sum_5000_min_price_avg',\n",
       "       'cafe_sum_5000_max_price_avg', 'cafe_avg_price_5000',\n",
       "       'cafe_count_5000_na_price', 'cafe_count_5000_price_500',\n",
       "       'cafe_count_5000_price_1000', 'cafe_count_5000_price_1500',\n",
       "       'cafe_count_5000_price_2500', 'cafe_count_5000_price_4000',\n",
       "       'cafe_count_5000_price_high', 'big_church_count_5000',\n",
       "       'church_count_5000', 'mosque_count_5000', 'leisure_count_5000',\n",
       "       'sport_count_5000', 'market_count_5000', 'price_doc'], dtype=object)"
      ]
     },
     "execution_count": 49,
     "metadata": {},
     "output_type": "execute_result"
    }
   ],
   "source": [
    "header_array"
   ]
  },
  {
   "cell_type": "code",
   "execution_count": 53,
   "metadata": {},
   "outputs": [],
   "source": [
    "imputed = pd.DataFrame(data=imputed_data[1:,1:],    # values\n",
    "index=imputed_data[1:,0],\n",
    "             columns=header_array[1:])# 1st column as index\n"
   ]
  },
  {
   "cell_type": "code",
   "execution_count": 56,
   "metadata": {},
   "outputs": [],
   "source": [
    "imputed.to_csv('imputed_train.csv')"
   ]
  }
 ],
 "metadata": {
  "kernelspec": {
   "display_name": "Python 3",
   "language": "python",
   "name": "python3"
  },
  "language_info": {
   "codemirror_mode": {
    "name": "ipython",
    "version": 3
   },
   "file_extension": ".py",
   "mimetype": "text/x-python",
   "name": "python",
   "nbconvert_exporter": "python",
   "pygments_lexer": "ipython3",
   "version": "3.6.5"
  }
 },
 "nbformat": 4,
 "nbformat_minor": 2
}
